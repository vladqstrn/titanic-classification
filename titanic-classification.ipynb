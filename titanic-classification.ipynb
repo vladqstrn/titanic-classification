{
 "cells": [
  {
   "cell_type": "code",
   "execution_count": 2,
   "metadata": {},
   "outputs": [],
   "source": [
    "import pandas as pd\n",
    "import os\n",
    "import matplotlib.pyplot as plt\n",
    "import seaborn as sns\n",
    "import pandas_profiling\n",
    "from sklearn.pipeline import Pipeline\n",
    "from sklearn.impute import SimpleImputer\n",
    "from sklearn.preprocessing import OrdinalEncoder, StandardScaler\n",
    "from sklearn.base import TransformerMixin, BaseEstimator\n",
    "from sklearn.compose import ColumnTransformer\n",
    "from sklearn.model_selection import GridSearchCV, KFold\n",
    "import numpy as np\n",
    "from sklearn.linear_model import LogisticRegression\n",
    "from catboost import CatBoostClassifier"
   ]
  },
  {
   "cell_type": "code",
   "execution_count": 3,
   "metadata": {},
   "outputs": [],
   "source": [
    "data = pd.read_csv('train.csv')\n",
    "test = pd.read_csv('test.csv')\n",
    "submission = pd.read_csv('gender_submission.csv')"
   ]
  },
  {
   "cell_type": "code",
   "execution_count": 4,
   "metadata": {},
   "outputs": [
    {
     "data": {
      "text/html": [
       "<div>\n",
       "<style scoped>\n",
       "    .dataframe tbody tr th:only-of-type {\n",
       "        vertical-align: middle;\n",
       "    }\n",
       "\n",
       "    .dataframe tbody tr th {\n",
       "        vertical-align: top;\n",
       "    }\n",
       "\n",
       "    .dataframe thead th {\n",
       "        text-align: right;\n",
       "    }\n",
       "</style>\n",
       "<table border=\"1\" class=\"dataframe\">\n",
       "  <thead>\n",
       "    <tr style=\"text-align: right;\">\n",
       "      <th></th>\n",
       "      <th>PassengerId</th>\n",
       "      <th>Survived</th>\n",
       "      <th>Pclass</th>\n",
       "      <th>Name</th>\n",
       "      <th>Sex</th>\n",
       "      <th>Age</th>\n",
       "      <th>SibSp</th>\n",
       "      <th>Parch</th>\n",
       "      <th>Ticket</th>\n",
       "      <th>Fare</th>\n",
       "      <th>Cabin</th>\n",
       "      <th>Embarked</th>\n",
       "    </tr>\n",
       "  </thead>\n",
       "  <tbody>\n",
       "    <tr>\n",
       "      <th>0</th>\n",
       "      <td>1</td>\n",
       "      <td>0</td>\n",
       "      <td>3</td>\n",
       "      <td>Braund, Mr. Owen Harris</td>\n",
       "      <td>male</td>\n",
       "      <td>22.0</td>\n",
       "      <td>1</td>\n",
       "      <td>0</td>\n",
       "      <td>A/5 21171</td>\n",
       "      <td>7.2500</td>\n",
       "      <td>NaN</td>\n",
       "      <td>S</td>\n",
       "    </tr>\n",
       "    <tr>\n",
       "      <th>1</th>\n",
       "      <td>2</td>\n",
       "      <td>1</td>\n",
       "      <td>1</td>\n",
       "      <td>Cumings, Mrs. John Bradley (Florence Briggs Th...</td>\n",
       "      <td>female</td>\n",
       "      <td>38.0</td>\n",
       "      <td>1</td>\n",
       "      <td>0</td>\n",
       "      <td>PC 17599</td>\n",
       "      <td>71.2833</td>\n",
       "      <td>C85</td>\n",
       "      <td>C</td>\n",
       "    </tr>\n",
       "    <tr>\n",
       "      <th>2</th>\n",
       "      <td>3</td>\n",
       "      <td>1</td>\n",
       "      <td>3</td>\n",
       "      <td>Heikkinen, Miss. Laina</td>\n",
       "      <td>female</td>\n",
       "      <td>26.0</td>\n",
       "      <td>0</td>\n",
       "      <td>0</td>\n",
       "      <td>STON/O2. 3101282</td>\n",
       "      <td>7.9250</td>\n",
       "      <td>NaN</td>\n",
       "      <td>S</td>\n",
       "    </tr>\n",
       "    <tr>\n",
       "      <th>3</th>\n",
       "      <td>4</td>\n",
       "      <td>1</td>\n",
       "      <td>1</td>\n",
       "      <td>Futrelle, Mrs. Jacques Heath (Lily May Peel)</td>\n",
       "      <td>female</td>\n",
       "      <td>35.0</td>\n",
       "      <td>1</td>\n",
       "      <td>0</td>\n",
       "      <td>113803</td>\n",
       "      <td>53.1000</td>\n",
       "      <td>C123</td>\n",
       "      <td>S</td>\n",
       "    </tr>\n",
       "    <tr>\n",
       "      <th>4</th>\n",
       "      <td>5</td>\n",
       "      <td>0</td>\n",
       "      <td>3</td>\n",
       "      <td>Allen, Mr. William Henry</td>\n",
       "      <td>male</td>\n",
       "      <td>35.0</td>\n",
       "      <td>0</td>\n",
       "      <td>0</td>\n",
       "      <td>373450</td>\n",
       "      <td>8.0500</td>\n",
       "      <td>NaN</td>\n",
       "      <td>S</td>\n",
       "    </tr>\n",
       "    <tr>\n",
       "      <th>...</th>\n",
       "      <td>...</td>\n",
       "      <td>...</td>\n",
       "      <td>...</td>\n",
       "      <td>...</td>\n",
       "      <td>...</td>\n",
       "      <td>...</td>\n",
       "      <td>...</td>\n",
       "      <td>...</td>\n",
       "      <td>...</td>\n",
       "      <td>...</td>\n",
       "      <td>...</td>\n",
       "      <td>...</td>\n",
       "    </tr>\n",
       "    <tr>\n",
       "      <th>886</th>\n",
       "      <td>887</td>\n",
       "      <td>0</td>\n",
       "      <td>2</td>\n",
       "      <td>Montvila, Rev. Juozas</td>\n",
       "      <td>male</td>\n",
       "      <td>27.0</td>\n",
       "      <td>0</td>\n",
       "      <td>0</td>\n",
       "      <td>211536</td>\n",
       "      <td>13.0000</td>\n",
       "      <td>NaN</td>\n",
       "      <td>S</td>\n",
       "    </tr>\n",
       "    <tr>\n",
       "      <th>887</th>\n",
       "      <td>888</td>\n",
       "      <td>1</td>\n",
       "      <td>1</td>\n",
       "      <td>Graham, Miss. Margaret Edith</td>\n",
       "      <td>female</td>\n",
       "      <td>19.0</td>\n",
       "      <td>0</td>\n",
       "      <td>0</td>\n",
       "      <td>112053</td>\n",
       "      <td>30.0000</td>\n",
       "      <td>B42</td>\n",
       "      <td>S</td>\n",
       "    </tr>\n",
       "    <tr>\n",
       "      <th>888</th>\n",
       "      <td>889</td>\n",
       "      <td>0</td>\n",
       "      <td>3</td>\n",
       "      <td>Johnston, Miss. Catherine Helen \"Carrie\"</td>\n",
       "      <td>female</td>\n",
       "      <td>NaN</td>\n",
       "      <td>1</td>\n",
       "      <td>2</td>\n",
       "      <td>W./C. 6607</td>\n",
       "      <td>23.4500</td>\n",
       "      <td>NaN</td>\n",
       "      <td>S</td>\n",
       "    </tr>\n",
       "    <tr>\n",
       "      <th>889</th>\n",
       "      <td>890</td>\n",
       "      <td>1</td>\n",
       "      <td>1</td>\n",
       "      <td>Behr, Mr. Karl Howell</td>\n",
       "      <td>male</td>\n",
       "      <td>26.0</td>\n",
       "      <td>0</td>\n",
       "      <td>0</td>\n",
       "      <td>111369</td>\n",
       "      <td>30.0000</td>\n",
       "      <td>C148</td>\n",
       "      <td>C</td>\n",
       "    </tr>\n",
       "    <tr>\n",
       "      <th>890</th>\n",
       "      <td>891</td>\n",
       "      <td>0</td>\n",
       "      <td>3</td>\n",
       "      <td>Dooley, Mr. Patrick</td>\n",
       "      <td>male</td>\n",
       "      <td>32.0</td>\n",
       "      <td>0</td>\n",
       "      <td>0</td>\n",
       "      <td>370376</td>\n",
       "      <td>7.7500</td>\n",
       "      <td>NaN</td>\n",
       "      <td>Q</td>\n",
       "    </tr>\n",
       "  </tbody>\n",
       "</table>\n",
       "<p>891 rows × 12 columns</p>\n",
       "</div>"
      ],
      "text/plain": [
       "     PassengerId  Survived  Pclass  \\\n",
       "0              1         0       3   \n",
       "1              2         1       1   \n",
       "2              3         1       3   \n",
       "3              4         1       1   \n",
       "4              5         0       3   \n",
       "..           ...       ...     ...   \n",
       "886          887         0       2   \n",
       "887          888         1       1   \n",
       "888          889         0       3   \n",
       "889          890         1       1   \n",
       "890          891         0       3   \n",
       "\n",
       "                                                  Name     Sex   Age  SibSp  \\\n",
       "0                              Braund, Mr. Owen Harris    male  22.0      1   \n",
       "1    Cumings, Mrs. John Bradley (Florence Briggs Th...  female  38.0      1   \n",
       "2                               Heikkinen, Miss. Laina  female  26.0      0   \n",
       "3         Futrelle, Mrs. Jacques Heath (Lily May Peel)  female  35.0      1   \n",
       "4                             Allen, Mr. William Henry    male  35.0      0   \n",
       "..                                                 ...     ...   ...    ...   \n",
       "886                              Montvila, Rev. Juozas    male  27.0      0   \n",
       "887                       Graham, Miss. Margaret Edith  female  19.0      0   \n",
       "888           Johnston, Miss. Catherine Helen \"Carrie\"  female   NaN      1   \n",
       "889                              Behr, Mr. Karl Howell    male  26.0      0   \n",
       "890                                Dooley, Mr. Patrick    male  32.0      0   \n",
       "\n",
       "     Parch            Ticket     Fare Cabin Embarked  \n",
       "0        0         A/5 21171   7.2500   NaN        S  \n",
       "1        0          PC 17599  71.2833   C85        C  \n",
       "2        0  STON/O2. 3101282   7.9250   NaN        S  \n",
       "3        0            113803  53.1000  C123        S  \n",
       "4        0            373450   8.0500   NaN        S  \n",
       "..     ...               ...      ...   ...      ...  \n",
       "886      0            211536  13.0000   NaN        S  \n",
       "887      0            112053  30.0000   B42        S  \n",
       "888      2        W./C. 6607  23.4500   NaN        S  \n",
       "889      0            111369  30.0000  C148        C  \n",
       "890      0            370376   7.7500   NaN        Q  \n",
       "\n",
       "[891 rows x 12 columns]"
      ]
     },
     "execution_count": 4,
     "metadata": {},
     "output_type": "execute_result"
    }
   ],
   "source": [
    "data"
   ]
  },
  {
   "cell_type": "code",
   "execution_count": 5,
   "metadata": {},
   "outputs": [
    {
     "name": "stdout",
     "output_type": "stream",
     "text": [
      "<class 'pandas.core.frame.DataFrame'>\n",
      "RangeIndex: 891 entries, 0 to 890\n",
      "Data columns (total 12 columns):\n",
      " #   Column       Non-Null Count  Dtype  \n",
      "---  ------       --------------  -----  \n",
      " 0   PassengerId  891 non-null    int64  \n",
      " 1   Survived     891 non-null    int64  \n",
      " 2   Pclass       891 non-null    int64  \n",
      " 3   Name         891 non-null    object \n",
      " 4   Sex          891 non-null    object \n",
      " 5   Age          714 non-null    float64\n",
      " 6   SibSp        891 non-null    int64  \n",
      " 7   Parch        891 non-null    int64  \n",
      " 8   Ticket       891 non-null    object \n",
      " 9   Fare         891 non-null    float64\n",
      " 10  Cabin        204 non-null    object \n",
      " 11  Embarked     889 non-null    object \n",
      "dtypes: float64(2), int64(5), object(5)\n",
      "memory usage: 83.7+ KB\n"
     ]
    }
   ],
   "source": [
    "data.info()"
   ]
  },
  {
   "cell_type": "code",
   "execution_count": 6,
   "metadata": {},
   "outputs": [
    {
     "name": "stdout",
     "output_type": "stream",
     "text": [
      "<class 'pandas.core.frame.DataFrame'>\n",
      "RangeIndex: 418 entries, 0 to 417\n",
      "Data columns (total 11 columns):\n",
      " #   Column       Non-Null Count  Dtype  \n",
      "---  ------       --------------  -----  \n",
      " 0   PassengerId  418 non-null    int64  \n",
      " 1   Pclass       418 non-null    int64  \n",
      " 2   Name         418 non-null    object \n",
      " 3   Sex          418 non-null    object \n",
      " 4   Age          332 non-null    float64\n",
      " 5   SibSp        418 non-null    int64  \n",
      " 6   Parch        418 non-null    int64  \n",
      " 7   Ticket       418 non-null    object \n",
      " 8   Fare         417 non-null    float64\n",
      " 9   Cabin        91 non-null     object \n",
      " 10  Embarked     418 non-null    object \n",
      "dtypes: float64(2), int64(4), object(5)\n",
      "memory usage: 36.0+ KB\n"
     ]
    }
   ],
   "source": [
    "test.info()"
   ]
  },
  {
   "cell_type": "code",
   "execution_count": 7,
   "metadata": {},
   "outputs": [],
   "source": [
    "#pandas_profiling.ProfileReport(data)`"
   ]
  },
  {
   "cell_type": "code",
   "execution_count": 8,
   "metadata": {},
   "outputs": [
    {
     "data": {
      "text/html": [
       "<div>\n",
       "<style scoped>\n",
       "    .dataframe tbody tr th:only-of-type {\n",
       "        vertical-align: middle;\n",
       "    }\n",
       "\n",
       "    .dataframe tbody tr th {\n",
       "        vertical-align: top;\n",
       "    }\n",
       "\n",
       "    .dataframe thead th {\n",
       "        text-align: right;\n",
       "    }\n",
       "</style>\n",
       "<table border=\"1\" class=\"dataframe\">\n",
       "  <thead>\n",
       "    <tr style=\"text-align: right;\">\n",
       "      <th></th>\n",
       "      <th>PassengerId</th>\n",
       "      <th>Survived</th>\n",
       "      <th>Pclass</th>\n",
       "      <th>Name</th>\n",
       "      <th>Sex</th>\n",
       "      <th>Age</th>\n",
       "      <th>SibSp</th>\n",
       "      <th>Parch</th>\n",
       "      <th>Ticket</th>\n",
       "      <th>Fare</th>\n",
       "      <th>Cabin</th>\n",
       "      <th>Embarked</th>\n",
       "    </tr>\n",
       "  </thead>\n",
       "  <tbody>\n",
       "    <tr>\n",
       "      <th>0</th>\n",
       "      <td>1</td>\n",
       "      <td>0</td>\n",
       "      <td>3</td>\n",
       "      <td>Braund, Mr. Owen Harris</td>\n",
       "      <td>male</td>\n",
       "      <td>22.0</td>\n",
       "      <td>1</td>\n",
       "      <td>0</td>\n",
       "      <td>A/5 21171</td>\n",
       "      <td>7.2500</td>\n",
       "      <td>NaN</td>\n",
       "      <td>S</td>\n",
       "    </tr>\n",
       "    <tr>\n",
       "      <th>1</th>\n",
       "      <td>2</td>\n",
       "      <td>1</td>\n",
       "      <td>1</td>\n",
       "      <td>Cumings, Mrs. John Bradley (Florence Briggs Th...</td>\n",
       "      <td>female</td>\n",
       "      <td>38.0</td>\n",
       "      <td>1</td>\n",
       "      <td>0</td>\n",
       "      <td>PC 17599</td>\n",
       "      <td>71.2833</td>\n",
       "      <td>C85</td>\n",
       "      <td>C</td>\n",
       "    </tr>\n",
       "    <tr>\n",
       "      <th>2</th>\n",
       "      <td>3</td>\n",
       "      <td>1</td>\n",
       "      <td>3</td>\n",
       "      <td>Heikkinen, Miss. Laina</td>\n",
       "      <td>female</td>\n",
       "      <td>26.0</td>\n",
       "      <td>0</td>\n",
       "      <td>0</td>\n",
       "      <td>STON/O2. 3101282</td>\n",
       "      <td>7.9250</td>\n",
       "      <td>NaN</td>\n",
       "      <td>S</td>\n",
       "    </tr>\n",
       "    <tr>\n",
       "      <th>3</th>\n",
       "      <td>4</td>\n",
       "      <td>1</td>\n",
       "      <td>1</td>\n",
       "      <td>Futrelle, Mrs. Jacques Heath (Lily May Peel)</td>\n",
       "      <td>female</td>\n",
       "      <td>35.0</td>\n",
       "      <td>1</td>\n",
       "      <td>0</td>\n",
       "      <td>113803</td>\n",
       "      <td>53.1000</td>\n",
       "      <td>C123</td>\n",
       "      <td>S</td>\n",
       "    </tr>\n",
       "    <tr>\n",
       "      <th>4</th>\n",
       "      <td>5</td>\n",
       "      <td>0</td>\n",
       "      <td>3</td>\n",
       "      <td>Allen, Mr. William Henry</td>\n",
       "      <td>male</td>\n",
       "      <td>35.0</td>\n",
       "      <td>0</td>\n",
       "      <td>0</td>\n",
       "      <td>373450</td>\n",
       "      <td>8.0500</td>\n",
       "      <td>NaN</td>\n",
       "      <td>S</td>\n",
       "    </tr>\n",
       "    <tr>\n",
       "      <th>...</th>\n",
       "      <td>...</td>\n",
       "      <td>...</td>\n",
       "      <td>...</td>\n",
       "      <td>...</td>\n",
       "      <td>...</td>\n",
       "      <td>...</td>\n",
       "      <td>...</td>\n",
       "      <td>...</td>\n",
       "      <td>...</td>\n",
       "      <td>...</td>\n",
       "      <td>...</td>\n",
       "      <td>...</td>\n",
       "    </tr>\n",
       "    <tr>\n",
       "      <th>886</th>\n",
       "      <td>887</td>\n",
       "      <td>0</td>\n",
       "      <td>2</td>\n",
       "      <td>Montvila, Rev. Juozas</td>\n",
       "      <td>male</td>\n",
       "      <td>27.0</td>\n",
       "      <td>0</td>\n",
       "      <td>0</td>\n",
       "      <td>211536</td>\n",
       "      <td>13.0000</td>\n",
       "      <td>NaN</td>\n",
       "      <td>S</td>\n",
       "    </tr>\n",
       "    <tr>\n",
       "      <th>887</th>\n",
       "      <td>888</td>\n",
       "      <td>1</td>\n",
       "      <td>1</td>\n",
       "      <td>Graham, Miss. Margaret Edith</td>\n",
       "      <td>female</td>\n",
       "      <td>19.0</td>\n",
       "      <td>0</td>\n",
       "      <td>0</td>\n",
       "      <td>112053</td>\n",
       "      <td>30.0000</td>\n",
       "      <td>B42</td>\n",
       "      <td>S</td>\n",
       "    </tr>\n",
       "    <tr>\n",
       "      <th>888</th>\n",
       "      <td>889</td>\n",
       "      <td>0</td>\n",
       "      <td>3</td>\n",
       "      <td>Johnston, Miss. Catherine Helen \"Carrie\"</td>\n",
       "      <td>female</td>\n",
       "      <td>NaN</td>\n",
       "      <td>1</td>\n",
       "      <td>2</td>\n",
       "      <td>W./C. 6607</td>\n",
       "      <td>23.4500</td>\n",
       "      <td>NaN</td>\n",
       "      <td>S</td>\n",
       "    </tr>\n",
       "    <tr>\n",
       "      <th>889</th>\n",
       "      <td>890</td>\n",
       "      <td>1</td>\n",
       "      <td>1</td>\n",
       "      <td>Behr, Mr. Karl Howell</td>\n",
       "      <td>male</td>\n",
       "      <td>26.0</td>\n",
       "      <td>0</td>\n",
       "      <td>0</td>\n",
       "      <td>111369</td>\n",
       "      <td>30.0000</td>\n",
       "      <td>C148</td>\n",
       "      <td>C</td>\n",
       "    </tr>\n",
       "    <tr>\n",
       "      <th>890</th>\n",
       "      <td>891</td>\n",
       "      <td>0</td>\n",
       "      <td>3</td>\n",
       "      <td>Dooley, Mr. Patrick</td>\n",
       "      <td>male</td>\n",
       "      <td>32.0</td>\n",
       "      <td>0</td>\n",
       "      <td>0</td>\n",
       "      <td>370376</td>\n",
       "      <td>7.7500</td>\n",
       "      <td>NaN</td>\n",
       "      <td>Q</td>\n",
       "    </tr>\n",
       "  </tbody>\n",
       "</table>\n",
       "<p>891 rows × 12 columns</p>\n",
       "</div>"
      ],
      "text/plain": [
       "     PassengerId  Survived  Pclass  \\\n",
       "0              1         0       3   \n",
       "1              2         1       1   \n",
       "2              3         1       3   \n",
       "3              4         1       1   \n",
       "4              5         0       3   \n",
       "..           ...       ...     ...   \n",
       "886          887         0       2   \n",
       "887          888         1       1   \n",
       "888          889         0       3   \n",
       "889          890         1       1   \n",
       "890          891         0       3   \n",
       "\n",
       "                                                  Name     Sex   Age  SibSp  \\\n",
       "0                              Braund, Mr. Owen Harris    male  22.0      1   \n",
       "1    Cumings, Mrs. John Bradley (Florence Briggs Th...  female  38.0      1   \n",
       "2                               Heikkinen, Miss. Laina  female  26.0      0   \n",
       "3         Futrelle, Mrs. Jacques Heath (Lily May Peel)  female  35.0      1   \n",
       "4                             Allen, Mr. William Henry    male  35.0      0   \n",
       "..                                                 ...     ...   ...    ...   \n",
       "886                              Montvila, Rev. Juozas    male  27.0      0   \n",
       "887                       Graham, Miss. Margaret Edith  female  19.0      0   \n",
       "888           Johnston, Miss. Catherine Helen \"Carrie\"  female   NaN      1   \n",
       "889                              Behr, Mr. Karl Howell    male  26.0      0   \n",
       "890                                Dooley, Mr. Patrick    male  32.0      0   \n",
       "\n",
       "     Parch            Ticket     Fare Cabin Embarked  \n",
       "0        0         A/5 21171   7.2500   NaN        S  \n",
       "1        0          PC 17599  71.2833   C85        C  \n",
       "2        0  STON/O2. 3101282   7.9250   NaN        S  \n",
       "3        0            113803  53.1000  C123        S  \n",
       "4        0            373450   8.0500   NaN        S  \n",
       "..     ...               ...      ...   ...      ...  \n",
       "886      0            211536  13.0000   NaN        S  \n",
       "887      0            112053  30.0000   B42        S  \n",
       "888      2        W./C. 6607  23.4500   NaN        S  \n",
       "889      0            111369  30.0000  C148        C  \n",
       "890      0            370376   7.7500   NaN        Q  \n",
       "\n",
       "[891 rows x 12 columns]"
      ]
     },
     "execution_count": 8,
     "metadata": {},
     "output_type": "execute_result"
    }
   ],
   "source": [
    "data"
   ]
  },
  {
   "cell_type": "code",
   "execution_count": 12,
   "metadata": {},
   "outputs": [
    {
     "data": {
      "text/plain": [
       "<seaborn.axisgrid.FacetGrid at 0x1a75d10ca60>"
      ]
     },
     "execution_count": 12,
     "metadata": {},
     "output_type": "execute_result"
    },
    {
     "data": {
      "image/png": "[encoded data removed]",
      "text/plain": [
       "<Figure size 915.875x432 with 2 Axes>"
      ]
     },
     "metadata": {
      "needs_background": "light"
     },
     "output_type": "display_data"
    }
   ],
   "source": [
    "facet = sns.FacetGrid(data, hue='Survived', aspect=4, row = 'Sex')\n",
    "facet.map(sns.kdeplot, 'Age', shade= True )\n",
    "facet.set(xlim=(0, data['Age'].max()))\n",
    "facet.add_legend()"
   ]
  },
  {
   "cell_type": "code",
   "execution_count": 14,
   "metadata": {},
   "outputs": [
    {
     "data": {
      "text/plain": [
       "<AxesSubplot:>"
      ]
     },
     "execution_count": 14,
     "metadata": {},
     "output_type": "execute_result"
    },
    {
     "data": {
      "image/png": "[encoded data removed]",
      "text/plain": [
       "<Figure size 432x288 with 2 Axes>"
      ]
     },
     "metadata": {
      "needs_background": "light"
     },
     "output_type": "display_data"
    }
   ],
   "source": [
    "sns.heatmap(data.corr())"
   ]
  },
  {
   "cell_type": "code",
   "execution_count": 18,
   "metadata": {},
   "outputs": [],
   "source": [
    "y = data['Survived']\n",
    "data = data.drop(['Survived'],axis =1)"
   ]
  },
  {
   "cell_type": "code",
   "execution_count": 19,
   "metadata": {},
   "outputs": [],
   "source": [
    "class UnCanged(BaseEstimator, TransformerMixin):\n",
    "    \"\"\"return unchanged data\"\"\"\n",
    "    def fit(*args, **kwargs):\n",
    "        return\n",
    "    def fit_transform(self, x, *args):\n",
    "        return self.transform(x)\n",
    "\n",
    "    def transform(self, x):\n",
    "        return x"
   ]
  },
  {
   "cell_type": "code",
   "execution_count": 20,
   "metadata": {},
   "outputs": [],
   "source": [
    "class MakeTitle(BaseEstimator, TransformerMixin):\n",
    "    \"\"\"extracts the title from the name\"\"\"\n",
    "    def fit(*args, **kwargs):\n",
    "        return\n",
    "\n",
    "    def fit_transform(self, x, *args):\n",
    "        return self.transform(x)\n",
    "\n",
    "    def transform(self, x):\n",
    "        title = x['Name'].str.extract('([A-Za-z]+)\\.',expand = False)\n",
    "        title = title.replace(['Mr', 'Miss', 'Mrs', 'Master', 'Dr', 'Rev', 'Col', 'Major',\\\n",
    "                                             'Mlle', 'Countess', 'Capt', 'Mme', 'Ms', 'Sir', 'Don', 'Jonkheer','Lady', 'Dona'],\n",
    "                                           ['Mr', 'Miss', 'Mrs', 'Master','Dr','Other', 'Other','Other', 'Other',\\\n",
    "                                            'Other', 'Other', 'Other', 'Other', 'Other', 'Other', 'Other', 'Other', 'Other'])\n",
    "        return title.values.reshape(-1,1)    "
   ]
  },
  {
   "cell_type": "code",
   "execution_count": 21,
   "metadata": {},
   "outputs": [],
   "source": [
    "process_embarked = Pipeline(steps=[\n",
    "    ('imputer', SimpleImputer(strategy='most_frequent')),\n",
    "    ('label_encoder', OrdinalEncoder())\n",
    "])"
   ]
  },
  {
   "cell_type": "code",
   "execution_count": 22,
   "metadata": {},
   "outputs": [],
   "source": [
    "process_title = Pipeline(steps=[\n",
    "    ('title_extract', MakeTitle()),\n",
    "    ('label_encoder', OrdinalEncoder())\n",
    "])"
   ]
  },
  {
   "cell_type": "code",
   "execution_count": 23,
   "metadata": {},
   "outputs": [],
   "source": [
    "preprocess = ColumnTransformer(\n",
    "    transformers=[\n",
    "        ('title', process_title, ['Name']),\n",
    "        ('sex', OrdinalEncoder(), ['Sex']),\n",
    "        ('num', SimpleImputer(), ['Age', 'Fare']),\n",
    "        ('embarked', process_embarked, ['Embarked']),\n",
    "        ('unmodified', UnCanged(), ['Parch', 'SibSp', 'Pclass'])     \n",
    "    ],remainder='drop')"
   ]
  },
  {
   "cell_type": "code",
   "execution_count": 24,
   "metadata": {},
   "outputs": [],
   "source": [
    "from xgboost import XGBRFClassifier, XGBClassifier"
   ]
  },
  {
   "cell_type": "markdown",
   "metadata": {},
   "source": [
    "Split data"
   ]
  },
  {
   "cell_type": "code",
   "execution_count": 25,
   "metadata": {},
   "outputs": [],
   "source": [
    "from sklearn.model_selection import train_test_split"
   ]
  },
  {
   "cell_type": "code",
   "execution_count": 35,
   "metadata": {},
   "outputs": [],
   "source": [
    "X_train, X_test, y_train, y_test = train_test_split(data, y, random_state=1, test_size= 0.2)"
   ]
  },
  {
   "cell_type": "markdown",
   "metadata": {},
   "source": [
    "Random Forest"
   ]
  },
  {
   "cell_type": "code",
   "execution_count": 36,
   "metadata": {},
   "outputs": [],
   "source": [
    "from sklearn.ensemble import RandomForestClassifier"
   ]
  },
  {
   "cell_type": "code",
   "execution_count": 37,
   "metadata": {},
   "outputs": [],
   "source": [
    "rf_parms = {'classifier__n_estimators': [10, 100, 200, 300, 400, 500, 1000],\n",
    "                     'classifier__max_depth':[3, 4, 7, 10],\n",
    "                     'classifier__min_samples_split': [3, 5, 7, 10],\n",
    "                     'classifier__min_samples_leaf': [2, 3, 5,7]}"
   ]
  },
  {
   "cell_type": "code",
   "execution_count": 38,
   "metadata": {},
   "outputs": [],
   "source": [
    "rf_pipeline = GridSearchCV(Pipeline(steps=[\n",
    "        ('preprocessor', preprocess),\n",
    "        ('classifier', RandomForestClassifier())\n",
    "    ]), rf_parms, cv=KFold(), n_jobs=-1)"
   ]
  },
  {
   "cell_type": "code",
   "execution_count": 39,
   "metadata": {},
   "outputs": [
    {
     "data": {
      "text/plain": [
       "GridSearchCV(cv=KFold(n_splits=5, random_state=None, shuffle=False),\n",
       "             estimator=Pipeline(steps=[('preprocessor',\n",
       "                                        ColumnTransformer(transformers=[('title',\n",
       "                                                                         Pipeline(steps=[('title_extract',\n",
       "                                                                                          MakeTitle()),\n",
       "                                                                                         ('label_encoder',\n",
       "                                                                                          OrdinalEncoder())]),\n",
       "                                                                         ['Name']),\n",
       "                                                                        ('sex',\n",
       "                                                                         OrdinalEncoder(),\n",
       "                                                                         ['Sex']),\n",
       "                                                                        ('num',\n",
       "                                                                         SimpleImputer(),\n",
       "                                                                         ['Age',\n",
       "                                                                          'Fare']),\n",
       "                                                                        ('embarked',\n",
       "                                                                         Pipeline(steps=[('imputer',\n",
       "                                                                                          SimpleImputer(strategy='most_frequent')),\n",
       "                                                                                         ('label_encoder',\n",
       "                                                                                          OrdinalEncoder())]),\n",
       "                                                                         ['Embarked']),\n",
       "                                                                        ('unmodified',\n",
       "                                                                         UnCanged(),\n",
       "                                                                         ['Parch',\n",
       "                                                                          'SibSp',\n",
       "                                                                          'Pclass'])])),\n",
       "                                       ('classifier',\n",
       "                                        RandomForestClassifier())]),\n",
       "             n_jobs=-1,\n",
       "             param_grid={'classifier__max_depth': [3, 4, 7, 10],\n",
       "                         'classifier__min_samples_leaf': [2, 3, 5, 7],\n",
       "                         'classifier__min_samples_split': [3, 5, 7, 10],\n",
       "                         'classifier__n_estimators': [10, 100, 200, 300, 400,\n",
       "                                                      500, 1000]})"
      ]
     },
     "execution_count": 39,
     "metadata": {},
     "output_type": "execute_result"
    }
   ],
   "source": [
    "rf_pipeline.fit(X_train, y = y_train)"
   ]
  },
  {
   "cell_type": "code",
   "execution_count": 42,
   "metadata": {},
   "outputs": [
    {
     "data": {
      "text/plain": [
       "0.8693820224719101"
      ]
     },
     "execution_count": 42,
     "metadata": {},
     "output_type": "execute_result"
    }
   ],
   "source": [
    "rf_pipeline.score(X_train, y_train)"
   ]
  },
  {
   "cell_type": "code",
   "execution_count": 43,
   "metadata": {},
   "outputs": [
    {
     "data": {
      "text/plain": [
       "0.7821229050279329"
      ]
     },
     "execution_count": 43,
     "metadata": {},
     "output_type": "execute_result"
    }
   ],
   "source": [
    "rf_pipeline.score(X_test, y_test)"
   ]
  },
  {
   "cell_type": "code",
   "execution_count": 50,
   "metadata": {},
   "outputs": [],
   "source": [
    "from sklearn.metrics import confusion_matrix\n",
    "from sklearn.metrics import classification_report"
   ]
  },
  {
   "cell_type": "code",
   "execution_count": 80,
   "metadata": {},
   "outputs": [
    {
     "data": {
      "text/plain": [
       "<AxesSubplot:>"
      ]
     },
     "execution_count": 80,
     "metadata": {},
     "output_type": "execute_result"
    },
    {
     "data": {
      "image/png": "[encoded data removed]",
      "text/plain": [
       "<Figure size 432x288 with 2 Axes>"
      ]
     },
     "metadata": {
      "needs_background": "light"
     },
     "output_type": "display_data"
    }
   ],
   "source": [
    "y_pred_rf = rf_pipeline.predict(X_test)\n",
    "cm = confusion_matrix(y_test,y_pred_rf)\n",
    "sns.heatmap(cm,annot=True,fmt=\"d\")"
   ]
  },
  {
   "cell_type": "code",
   "execution_count": 91,
   "metadata": {},
   "outputs": [
    {
     "data": {
      "text/html": [
       "<div>\n",
       "<style scoped>\n",
       "    .dataframe tbody tr th:only-of-type {\n",
       "        vertical-align: middle;\n",
       "    }\n",
       "\n",
       "    .dataframe tbody tr th {\n",
       "        vertical-align: top;\n",
       "    }\n",
       "\n",
       "    .dataframe thead th {\n",
       "        text-align: right;\n",
       "    }\n",
       "</style>\n",
       "<table border=\"1\" class=\"dataframe\">\n",
       "  <thead>\n",
       "    <tr style=\"text-align: right;\">\n",
       "      <th></th>\n",
       "      <th>precision</th>\n",
       "      <th>recall</th>\n",
       "      <th>f1-score</th>\n",
       "      <th>support</th>\n",
       "    </tr>\n",
       "  </thead>\n",
       "  <tbody>\n",
       "    <tr>\n",
       "      <th>0</th>\n",
       "      <td>0.751880</td>\n",
       "      <td>0.943396</td>\n",
       "      <td>0.836820</td>\n",
       "      <td>106.000000</td>\n",
       "    </tr>\n",
       "    <tr>\n",
       "      <th>1</th>\n",
       "      <td>0.869565</td>\n",
       "      <td>0.547945</td>\n",
       "      <td>0.672269</td>\n",
       "      <td>73.000000</td>\n",
       "    </tr>\n",
       "    <tr>\n",
       "      <th>accuracy</th>\n",
       "      <td>0.782123</td>\n",
       "      <td>0.782123</td>\n",
       "      <td>0.782123</td>\n",
       "      <td>0.782123</td>\n",
       "    </tr>\n",
       "    <tr>\n",
       "      <th>macro avg</th>\n",
       "      <td>0.810722</td>\n",
       "      <td>0.745671</td>\n",
       "      <td>0.754544</td>\n",
       "      <td>179.000000</td>\n",
       "    </tr>\n",
       "    <tr>\n",
       "      <th>weighted avg</th>\n",
       "      <td>0.799874</td>\n",
       "      <td>0.782123</td>\n",
       "      <td>0.769713</td>\n",
       "      <td>179.000000</td>\n",
       "    </tr>\n",
       "  </tbody>\n",
       "</table>\n",
       "</div>"
      ],
      "text/plain": [
       "              precision    recall  f1-score     support\n",
       "0              0.751880  0.943396  0.836820  106.000000\n",
       "1              0.869565  0.547945  0.672269   73.000000\n",
       "accuracy       0.782123  0.782123  0.782123    0.782123\n",
       "macro avg      0.810722  0.745671  0.754544  179.000000\n",
       "weighted avg   0.799874  0.782123  0.769713  179.000000"
      ]
     },
     "execution_count": 91,
     "metadata": {},
     "output_type": "execute_result"
    }
   ],
   "source": [
    "class_report = classification_report(y_test,y_pred_rf, output_dict=True)\n",
    "report_rf = pd.DataFrame(class_report).transpose()\n",
    "report_rf"
   ]
  },
  {
   "cell_type": "code",
   "execution_count": 85,
   "metadata": {},
   "outputs": [
    {
     "data": {
      "text/plain": [
       "{'classifier__max_depth': 4,\n",
       " 'classifier__min_samples_leaf': 5,\n",
       " 'classifier__min_samples_split': 5,\n",
       " 'classifier__n_estimators': 10}"
      ]
     },
     "execution_count": 85,
     "metadata": {},
     "output_type": "execute_result"
    }
   ],
   "source": [
    "rf_pipeline.best_params_"
   ]
  },
  {
   "cell_type": "markdown",
   "metadata": {},
   "source": [
    "XGBClassifier"
   ]
  },
  {
   "cell_type": "code",
   "execution_count": 44,
   "metadata": {},
   "outputs": [],
   "source": [
    "xgb_params = {'classifier__n_estimators': [100,200,2000],\n",
    "              'classifier__max_depth':[3,4],\n",
    "             'classifier__gamma': [0.7,0.8,0.9],\n",
    "             'classifier__min_child_weight': [2],\n",
    "             'classifier__subsample': [0.8],\n",
    "             'classifier__colsample_bytree': [0.8],\n",
    "             'classifier__objective': ['binary:logistic'],\n",
    "             'classifier__nthread': [-1],\n",
    "             'classifier__scale_pos_weight': [1]}"
   ]
  },
  {
   "cell_type": "code",
   "execution_count": 45,
   "metadata": {},
   "outputs": [],
   "source": [
    "xgb_pipeline = GridSearchCV(Pipeline(steps=[\n",
    "    ('preprocess', preprocess),\n",
    "    ('classifier', XGBClassifier(use_label_encoder=False))\n",
    "]), xgb_params, cv = KFold(), n_jobs = -1)"
   ]
  },
  {
   "cell_type": "code",
   "execution_count": 46,
   "metadata": {},
   "outputs": [
    {
     "name": "stdout",
     "output_type": "stream",
     "text": [
      "[21:45:40] WARNING: C:/Users/Administrator/workspace/xgboost-win64_release_1.4.0/src/learner.cc:1095: Starting in XGBoost 1.3.0, the default evaluation metric used with the objective 'binary:logistic' was changed from 'error' to 'logloss'. Explicitly set eval_metric if you'd like to restore the old behavior.\n"
     ]
    },
    {
     "data": {
      "text/plain": [
       "GridSearchCV(cv=KFold(n_splits=5, random_state=None, shuffle=False),\n",
       "             estimator=Pipeline(steps=[('preprocess',\n",
       "                                        ColumnTransformer(transformers=[('title',\n",
       "                                                                         Pipeline(steps=[('title_extract',\n",
       "                                                                                          MakeTitle()),\n",
       "                                                                                         ('label_encoder',\n",
       "                                                                                          OrdinalEncoder())]),\n",
       "                                                                         ['Name']),\n",
       "                                                                        ('sex',\n",
       "                                                                         OrdinalEncoder(),\n",
       "                                                                         ['Sex']),\n",
       "                                                                        ('num',\n",
       "                                                                         SimpleImputer(),\n",
       "                                                                         ['Age',\n",
       "                                                                          'Fare']),\n",
       "                                                                        ('embarked',\n",
       "                                                                         Pipeline(steps=[('imputer'...\n",
       "                                                      verbosity=None))]),\n",
       "             n_jobs=-1,\n",
       "             param_grid={'classifier__colsample_bytree': [0.8],\n",
       "                         'classifier__gamma': [0.7, 0.8, 0.9],\n",
       "                         'classifier__max_depth': [3, 4],\n",
       "                         'classifier__min_child_weight': [2],\n",
       "                         'classifier__n_estimators': [100, 200, 2000],\n",
       "                         'classifier__nthread': [-1],\n",
       "                         'classifier__objective': ['binary:logistic'],\n",
       "                         'classifier__scale_pos_weight': [1],\n",
       "                         'classifier__subsample': [0.8]})"
      ]
     },
     "execution_count": 46,
     "metadata": {},
     "output_type": "execute_result"
    }
   ],
   "source": [
    "xgb_pipeline.fit(X_train,y = y_train)"
   ]
  },
  {
   "cell_type": "code",
   "execution_count": 47,
   "metadata": {},
   "outputs": [
    {
     "data": {
      "text/plain": [
       "0.776536312849162"
      ]
     },
     "execution_count": 47,
     "metadata": {},
     "output_type": "execute_result"
    }
   ],
   "source": [
    "xgb_pipeline.score(X_test,y_test)"
   ]
  },
  {
   "cell_type": "code",
   "execution_count": 48,
   "metadata": {},
   "outputs": [
    {
     "data": {
      "text/plain": [
       "{'classifier__colsample_bytree': 0.8,\n",
       " 'classifier__gamma': 0.8,\n",
       " 'classifier__max_depth': 4,\n",
       " 'classifier__min_child_weight': 2,\n",
       " 'classifier__n_estimators': 100,\n",
       " 'classifier__nthread': -1,\n",
       " 'classifier__objective': 'binary:logistic',\n",
       " 'classifier__scale_pos_weight': 1,\n",
       " 'classifier__subsample': 0.8}"
      ]
     },
     "execution_count": 48,
     "metadata": {},
     "output_type": "execute_result"
    }
   ],
   "source": [
    "xgb_pipeline.best_params_"
   ]
  },
  {
   "cell_type": "code",
   "execution_count": 71,
   "metadata": {},
   "outputs": [
    {
     "data": {
      "text/plain": [
       "<AxesSubplot:>"
      ]
     },
     "execution_count": 71,
     "metadata": {},
     "output_type": "execute_result"
    },
    {
     "data": {
      "image/png": "[encoded data removed]",
      "text/plain": [
       "<Figure size 432x288 with 2 Axes>"
      ]
     },
     "metadata": {
      "needs_background": "light"
     },
     "output_type": "display_data"
    }
   ],
   "source": [
    "\n",
    "y_pred_xgb = xgb_pipeline.predict(X_test)\n",
    "cm = confusion_matrix(y_test,y_pred_xgb)\n",
    "sns.heatmap(cm,annot=True,fmt=\"d\")"
   ]
  },
  {
   "cell_type": "code",
   "execution_count": 90,
   "metadata": {},
   "outputs": [
    {
     "data": {
      "text/html": [
       "<div>\n",
       "<style scoped>\n",
       "    .dataframe tbody tr th:only-of-type {\n",
       "        vertical-align: middle;\n",
       "    }\n",
       "\n",
       "    .dataframe tbody tr th {\n",
       "        vertical-align: top;\n",
       "    }\n",
       "\n",
       "    .dataframe thead th {\n",
       "        text-align: right;\n",
       "    }\n",
       "</style>\n",
       "<table border=\"1\" class=\"dataframe\">\n",
       "  <thead>\n",
       "    <tr style=\"text-align: right;\">\n",
       "      <th></th>\n",
       "      <th>precision</th>\n",
       "      <th>recall</th>\n",
       "      <th>f1-score</th>\n",
       "      <th>support</th>\n",
       "    </tr>\n",
       "  </thead>\n",
       "  <tbody>\n",
       "    <tr>\n",
       "      <th>0</th>\n",
       "      <td>0.766129</td>\n",
       "      <td>0.896226</td>\n",
       "      <td>0.826087</td>\n",
       "      <td>106.000000</td>\n",
       "    </tr>\n",
       "    <tr>\n",
       "      <th>1</th>\n",
       "      <td>0.800000</td>\n",
       "      <td>0.602740</td>\n",
       "      <td>0.687500</td>\n",
       "      <td>73.000000</td>\n",
       "    </tr>\n",
       "    <tr>\n",
       "      <th>accuracy</th>\n",
       "      <td>0.776536</td>\n",
       "      <td>0.776536</td>\n",
       "      <td>0.776536</td>\n",
       "      <td>0.776536</td>\n",
       "    </tr>\n",
       "    <tr>\n",
       "      <th>macro avg</th>\n",
       "      <td>0.783065</td>\n",
       "      <td>0.749483</td>\n",
       "      <td>0.756793</td>\n",
       "      <td>179.000000</td>\n",
       "    </tr>\n",
       "    <tr>\n",
       "      <th>weighted avg</th>\n",
       "      <td>0.779942</td>\n",
       "      <td>0.776536</td>\n",
       "      <td>0.769568</td>\n",
       "      <td>179.000000</td>\n",
       "    </tr>\n",
       "  </tbody>\n",
       "</table>\n",
       "</div>"
      ],
      "text/plain": [
       "              precision    recall  f1-score     support\n",
       "0              0.766129  0.896226  0.826087  106.000000\n",
       "1              0.800000  0.602740  0.687500   73.000000\n",
       "accuracy       0.776536  0.776536  0.776536    0.776536\n",
       "macro avg      0.783065  0.749483  0.756793  179.000000\n",
       "weighted avg   0.779942  0.776536  0.769568  179.000000"
      ]
     },
     "execution_count": 90,
     "metadata": {},
     "output_type": "execute_result"
    }
   ],
   "source": [
    "class_report = classification_report(y_test,y_pred_xgb, output_dict=True)\n",
    "report_xgb = pd.DataFrame(class_report).transpose()\n",
    "report_xgb"
   ]
  },
  {
   "cell_type": "markdown",
   "metadata": {},
   "source": [
    "CatBoostClassifier"
   ]
  },
  {
   "cell_type": "code",
   "execution_count": 26,
   "metadata": {},
   "outputs": [],
   "source": [
    "params = {'classifier__depth':[3,4],\n",
    "              'classifier__iterations':[250,100],\n",
    "              'classifier__learning_rate':[0.03,0.001],\n",
    "              'classifier__l2_leaf_reg':[3,1,5],\n",
    "              'classifier__border_count':[5,10,20],\n",
    "              'classifier__bagging_temperature':[0.03,0.09,0.25],\n",
    "              'classifier__random_strength':[0.2,0.5],\n",
    "              'classifier__max_ctr_complexity':[1,2,3] }\n",
    "\n",
    "cat_pipeline = GridSearchCV(Pipeline(steps=[\n",
    "    ('preprocess', preprocess),\n",
    "    ('classifier', CatBoostClassifier())\n",
    "]), params, cv = KFold(), n_jobs = -1)"
   ]
  },
  {
   "cell_type": "code",
   "execution_count": 27,
   "metadata": {},
   "outputs": [
    {
     "name": "stdout",
     "output_type": "stream",
     "text": [
      "0:\tlearn: 0.6924094\ttotal: 146ms\tremaining: 36.3s\n",
      "1:\tlearn: 0.6916571\ttotal: 148ms\tremaining: 18.3s\n",
      "2:\tlearn: 0.6909432\ttotal: 150ms\tremaining: 12.3s\n",
      "3:\tlearn: 0.6902096\ttotal: 151ms\tremaining: 9.3s\n",
      "4:\tlearn: 0.6894860\ttotal: 153ms\tremaining: 7.47s\n",
      "5:\tlearn: 0.6887558\ttotal: 154ms\tremaining: 6.27s\n",
      "6:\tlearn: 0.6879686\ttotal: 156ms\tremaining: 5.4s\n",
      "7:\tlearn: 0.6872499\ttotal: 157ms\tremaining: 4.75s\n",
      "8:\tlearn: 0.6864297\ttotal: 158ms\tremaining: 4.24s\n",
      "9:\tlearn: 0.6856117\ttotal: 160ms\tremaining: 3.84s\n",
      "10:\tlearn: 0.6847960\ttotal: 162ms\tremaining: 3.51s\n",
      "11:\tlearn: 0.6840719\ttotal: 163ms\tremaining: 3.23s\n",
      "12:\tlearn: 0.6833866\ttotal: 164ms\tremaining: 3s\n",
      "13:\tlearn: 0.6826290\ttotal: 166ms\tremaining: 2.79s\n",
      "14:\tlearn: 0.6819334\ttotal: 167ms\tremaining: 2.62s\n",
      "15:\tlearn: 0.6812256\ttotal: 168ms\tremaining: 2.46s\n",
      "16:\tlearn: 0.6805001\ttotal: 170ms\tremaining: 2.32s\n",
      "17:\tlearn: 0.6797909\ttotal: 171ms\tremaining: 2.2s\n",
      "18:\tlearn: 0.6790689\ttotal: 172ms\tremaining: 2.09s\n",
      "19:\tlearn: 0.6783732\ttotal: 174ms\tremaining: 2s\n",
      "20:\tlearn: 0.6776733\ttotal: 176ms\tremaining: 1.91s\n",
      "21:\tlearn: 0.6769662\ttotal: 177ms\tremaining: 1.83s\n",
      "22:\tlearn: 0.6762243\ttotal: 178ms\tremaining: 1.75s\n",
      "23:\tlearn: 0.6755432\ttotal: 179ms\tremaining: 1.68s\n",
      "24:\tlearn: 0.6748557\ttotal: 180ms\tremaining: 1.62s\n",
      "25:\tlearn: 0.6741599\ttotal: 182ms\tremaining: 1.56s\n",
      "26:\tlearn: 0.6734513\ttotal: 183ms\tremaining: 1.51s\n",
      "27:\tlearn: 0.6727965\ttotal: 184ms\tremaining: 1.46s\n",
      "28:\tlearn: 0.6721259\ttotal: 185ms\tremaining: 1.41s\n",
      "29:\tlearn: 0.6714221\ttotal: 187ms\tremaining: 1.37s\n",
      "30:\tlearn: 0.6707523\ttotal: 188ms\tremaining: 1.33s\n",
      "31:\tlearn: 0.6700244\ttotal: 190ms\tremaining: 1.29s\n",
      "32:\tlearn: 0.6692994\ttotal: 191ms\tremaining: 1.26s\n",
      "33:\tlearn: 0.6685254\ttotal: 193ms\tremaining: 1.22s\n",
      "34:\tlearn: 0.6677879\ttotal: 194ms\tremaining: 1.19s\n",
      "35:\tlearn: 0.6671134\ttotal: 195ms\tremaining: 1.16s\n",
      "36:\tlearn: 0.6664187\ttotal: 196ms\tremaining: 1.13s\n",
      "37:\tlearn: 0.6657288\ttotal: 198ms\tremaining: 1.1s\n",
      "38:\tlearn: 0.6650497\ttotal: 199ms\tremaining: 1.08s\n",
      "39:\tlearn: 0.6643097\ttotal: 200ms\tremaining: 1.05s\n",
      "40:\tlearn: 0.6636802\ttotal: 202ms\tremaining: 1.03s\n",
      "41:\tlearn: 0.6630055\ttotal: 204ms\tremaining: 1.01s\n",
      "42:\tlearn: 0.6622817\ttotal: 205ms\tremaining: 988ms\n",
      "43:\tlearn: 0.6616016\ttotal: 207ms\tremaining: 967ms\n",
      "44:\tlearn: 0.6609232\ttotal: 208ms\tremaining: 948ms\n",
      "45:\tlearn: 0.6602647\ttotal: 210ms\tremaining: 929ms\n",
      "46:\tlearn: 0.6595141\ttotal: 211ms\tremaining: 911ms\n",
      "47:\tlearn: 0.6588154\ttotal: 212ms\tremaining: 893ms\n",
      "48:\tlearn: 0.6581399\ttotal: 214ms\tremaining: 877ms\n",
      "49:\tlearn: 0.6574670\ttotal: 215ms\tremaining: 861ms\n",
      "50:\tlearn: 0.6567571\ttotal: 217ms\tremaining: 846ms\n",
      "51:\tlearn: 0.6561074\ttotal: 218ms\tremaining: 830ms\n",
      "52:\tlearn: 0.6554384\ttotal: 219ms\tremaining: 815ms\n",
      "53:\tlearn: 0.6547720\ttotal: 221ms\tremaining: 801ms\n",
      "54:\tlearn: 0.6541422\ttotal: 222ms\tremaining: 786ms\n",
      "55:\tlearn: 0.6534076\ttotal: 223ms\tremaining: 773ms\n",
      "56:\tlearn: 0.6527239\ttotal: 225ms\tremaining: 761ms\n",
      "57:\tlearn: 0.6520641\ttotal: 226ms\tremaining: 749ms\n",
      "58:\tlearn: 0.6513678\ttotal: 228ms\tremaining: 738ms\n",
      "59:\tlearn: 0.6506875\ttotal: 229ms\tremaining: 726ms\n",
      "60:\tlearn: 0.6500501\ttotal: 231ms\tremaining: 716ms\n",
      "61:\tlearn: 0.6493482\ttotal: 233ms\tremaining: 707ms\n",
      "62:\tlearn: 0.6486590\ttotal: 235ms\tremaining: 696ms\n",
      "63:\tlearn: 0.6480239\ttotal: 236ms\tremaining: 685ms\n",
      "64:\tlearn: 0.6473537\ttotal: 237ms\tremaining: 675ms\n",
      "65:\tlearn: 0.6466836\ttotal: 239ms\tremaining: 665ms\n",
      "66:\tlearn: 0.6460411\ttotal: 240ms\tremaining: 655ms\n",
      "67:\tlearn: 0.6454175\ttotal: 241ms\tremaining: 646ms\n",
      "68:\tlearn: 0.6447956\ttotal: 243ms\tremaining: 636ms\n",
      "69:\tlearn: 0.6441750\ttotal: 244ms\tremaining: 628ms\n",
      "70:\tlearn: 0.6435358\ttotal: 246ms\tremaining: 619ms\n",
      "71:\tlearn: 0.6429182\ttotal: 247ms\tremaining: 611ms\n",
      "72:\tlearn: 0.6423153\ttotal: 249ms\tremaining: 603ms\n",
      "73:\tlearn: 0.6416906\ttotal: 250ms\tremaining: 594ms\n",
      "74:\tlearn: 0.6410622\ttotal: 251ms\tremaining: 586ms\n",
      "75:\tlearn: 0.6403936\ttotal: 252ms\tremaining: 578ms\n",
      "76:\tlearn: 0.6398208\ttotal: 254ms\tremaining: 570ms\n",
      "77:\tlearn: 0.6392149\ttotal: 255ms\tremaining: 562ms\n",
      "78:\tlearn: 0.6385511\ttotal: 256ms\tremaining: 555ms\n",
      "79:\tlearn: 0.6379812\ttotal: 258ms\tremaining: 547ms\n",
      "80:\tlearn: 0.6373206\ttotal: 259ms\tremaining: 541ms\n",
      "81:\tlearn: 0.6367245\ttotal: 261ms\tremaining: 534ms\n",
      "82:\tlearn: 0.6361589\ttotal: 262ms\tremaining: 528ms\n",
      "83:\tlearn: 0.6355815\ttotal: 263ms\tremaining: 521ms\n",
      "84:\tlearn: 0.6349825\ttotal: 265ms\tremaining: 514ms\n",
      "85:\tlearn: 0.6343652\ttotal: 266ms\tremaining: 508ms\n",
      "86:\tlearn: 0.6337823\ttotal: 267ms\tremaining: 501ms\n",
      "87:\tlearn: 0.6331003\ttotal: 269ms\tremaining: 495ms\n",
      "88:\tlearn: 0.6324970\ttotal: 270ms\tremaining: 489ms\n",
      "89:\tlearn: 0.6318885\ttotal: 272ms\tremaining: 483ms\n",
      "90:\tlearn: 0.6313093\ttotal: 273ms\tremaining: 477ms\n",
      "91:\tlearn: 0.6307205\ttotal: 275ms\tremaining: 472ms\n",
      "92:\tlearn: 0.6301271\ttotal: 276ms\tremaining: 467ms\n",
      "93:\tlearn: 0.6294546\ttotal: 278ms\tremaining: 461ms\n",
      "94:\tlearn: 0.6288650\ttotal: 279ms\tremaining: 455ms\n",
      "95:\tlearn: 0.6282726\ttotal: 280ms\tremaining: 450ms\n",
      "96:\tlearn: 0.6276744\ttotal: 282ms\tremaining: 444ms\n",
      "97:\tlearn: 0.6271065\ttotal: 283ms\tremaining: 439ms\n",
      "98:\tlearn: 0.6265387\ttotal: 284ms\tremaining: 434ms\n",
      "99:\tlearn: 0.6259554\ttotal: 286ms\tremaining: 429ms\n",
      "100:\tlearn: 0.6253784\ttotal: 287ms\tremaining: 423ms\n",
      "101:\tlearn: 0.6248002\ttotal: 288ms\tremaining: 418ms\n",
      "102:\tlearn: 0.6242077\ttotal: 289ms\tremaining: 413ms\n",
      "103:\tlearn: 0.6235812\ttotal: 291ms\tremaining: 408ms\n",
      "104:\tlearn: 0.6230049\ttotal: 292ms\tremaining: 403ms\n",
      "105:\tlearn: 0.6224167\ttotal: 294ms\tremaining: 399ms\n",
      "106:\tlearn: 0.6218437\ttotal: 295ms\tremaining: 394ms\n",
      "107:\tlearn: 0.6212609\ttotal: 296ms\tremaining: 389ms\n",
      "108:\tlearn: 0.6207066\ttotal: 297ms\tremaining: 385ms\n",
      "109:\tlearn: 0.6200888\ttotal: 299ms\tremaining: 380ms\n",
      "110:\tlearn: 0.6194727\ttotal: 300ms\tremaining: 376ms\n",
      "111:\tlearn: 0.6189067\ttotal: 301ms\tremaining: 371ms\n",
      "112:\tlearn: 0.6183422\ttotal: 302ms\tremaining: 367ms\n",
      "113:\tlearn: 0.6177791\ttotal: 305ms\tremaining: 364ms\n",
      "114:\tlearn: 0.6172035\ttotal: 307ms\tremaining: 360ms\n",
      "115:\tlearn: 0.6166433\ttotal: 308ms\tremaining: 356ms\n",
      "116:\tlearn: 0.6161119\ttotal: 310ms\tremaining: 352ms\n",
      "117:\tlearn: 0.6155202\ttotal: 311ms\tremaining: 348ms\n",
      "118:\tlearn: 0.6149672\ttotal: 313ms\tremaining: 345ms\n",
      "119:\tlearn: 0.6144111\ttotal: 315ms\tremaining: 341ms\n",
      "120:\tlearn: 0.6138437\ttotal: 317ms\tremaining: 338ms\n",
      "121:\tlearn: 0.6132431\ttotal: 318ms\tremaining: 334ms\n",
      "122:\tlearn: 0.6126786\ttotal: 321ms\tremaining: 331ms\n",
      "123:\tlearn: 0.6120810\ttotal: 322ms\tremaining: 328ms\n",
      "124:\tlearn: 0.6115346\ttotal: 324ms\tremaining: 324ms\n",
      "125:\tlearn: 0.6109745\ttotal: 326ms\tremaining: 321ms\n",
      "126:\tlearn: 0.6104180\ttotal: 328ms\tremaining: 318ms\n",
      "127:\tlearn: 0.6098837\ttotal: 330ms\tremaining: 315ms\n",
      "128:\tlearn: 0.6092640\ttotal: 332ms\tremaining: 312ms\n",
      "129:\tlearn: 0.6087117\ttotal: 334ms\tremaining: 308ms\n",
      "130:\tlearn: 0.6081744\ttotal: 336ms\tremaining: 305ms\n",
      "131:\tlearn: 0.6075592\ttotal: 337ms\tremaining: 301ms\n",
      "132:\tlearn: 0.6070084\ttotal: 338ms\tremaining: 297ms\n",
      "133:\tlearn: 0.6064591\ttotal: 340ms\tremaining: 294ms\n",
      "134:\tlearn: 0.6058486\ttotal: 342ms\tremaining: 291ms\n",
      "135:\tlearn: 0.6053021\ttotal: 343ms\tremaining: 288ms\n",
      "136:\tlearn: 0.6047595\ttotal: 344ms\tremaining: 284ms\n",
      "137:\tlearn: 0.6042158\ttotal: 346ms\tremaining: 281ms\n",
      "138:\tlearn: 0.6036290\ttotal: 348ms\tremaining: 278ms\n",
      "139:\tlearn: 0.6030905\ttotal: 349ms\tremaining: 274ms\n",
      "140:\tlearn: 0.6025615\ttotal: 350ms\tremaining: 271ms\n",
      "141:\tlearn: 0.6020705\ttotal: 352ms\tremaining: 268ms\n",
      "142:\tlearn: 0.6015465\ttotal: 353ms\tremaining: 264ms\n",
      "143:\tlearn: 0.6010438\ttotal: 355ms\tremaining: 261ms\n",
      "144:\tlearn: 0.6004755\ttotal: 356ms\tremaining: 258ms\n",
      "145:\tlearn: 0.5999087\ttotal: 357ms\tremaining: 254ms\n",
      "146:\tlearn: 0.5993792\ttotal: 358ms\tremaining: 251ms\n",
      "147:\tlearn: 0.5988454\ttotal: 360ms\tremaining: 248ms\n",
      "148:\tlearn: 0.5983160\ttotal: 361ms\tremaining: 245ms\n",
      "149:\tlearn: 0.5977997\ttotal: 363ms\tremaining: 242ms\n",
      "150:\tlearn: 0.5972810\ttotal: 364ms\tremaining: 239ms\n",
      "151:\tlearn: 0.5967673\ttotal: 365ms\tremaining: 236ms\n",
      "152:\tlearn: 0.5962099\ttotal: 367ms\tremaining: 232ms\n",
      "153:\tlearn: 0.5956893\ttotal: 368ms\tremaining: 229ms\n",
      "154:\tlearn: 0.5951676\ttotal: 369ms\tremaining: 226ms\n",
      "155:\tlearn: 0.5946678\ttotal: 370ms\tremaining: 223ms\n",
      "156:\tlearn: 0.5940882\ttotal: 372ms\tremaining: 220ms\n",
      "157:\tlearn: 0.5935377\ttotal: 373ms\tremaining: 217ms\n",
      "158:\tlearn: 0.5930328\ttotal: 375ms\tremaining: 215ms\n",
      "159:\tlearn: 0.5925272\ttotal: 376ms\tremaining: 212ms\n",
      "160:\tlearn: 0.5920132\ttotal: 378ms\tremaining: 209ms\n",
      "161:\tlearn: 0.5914573\ttotal: 379ms\tremaining: 206ms\n",
      "162:\tlearn: 0.5909723\ttotal: 380ms\tremaining: 203ms\n",
      "163:\tlearn: 0.5904735\ttotal: 382ms\tremaining: 200ms\n",
      "164:\tlearn: 0.5899583\ttotal: 383ms\tremaining: 197ms\n",
      "165:\tlearn: 0.5894182\ttotal: 384ms\tremaining: 195ms\n",
      "166:\tlearn: 0.5889248\ttotal: 386ms\tremaining: 192ms\n",
      "167:\tlearn: 0.5884287\ttotal: 387ms\tremaining: 189ms\n",
      "168:\tlearn: 0.5878819\ttotal: 388ms\tremaining: 186ms\n",
      "169:\tlearn: 0.5873791\ttotal: 389ms\tremaining: 183ms\n",
      "170:\tlearn: 0.5869034\ttotal: 390ms\tremaining: 180ms\n",
      "171:\tlearn: 0.5864159\ttotal: 391ms\tremaining: 178ms\n",
      "172:\tlearn: 0.5858742\ttotal: 393ms\tremaining: 175ms\n",
      "173:\tlearn: 0.5853890\ttotal: 394ms\tremaining: 172ms\n",
      "174:\tlearn: 0.5849084\ttotal: 396ms\tremaining: 170ms\n",
      "175:\tlearn: 0.5844128\ttotal: 397ms\tremaining: 167ms\n",
      "176:\tlearn: 0.5839001\ttotal: 398ms\tremaining: 164ms\n",
      "177:\tlearn: 0.5833489\ttotal: 400ms\tremaining: 162ms\n",
      "178:\tlearn: 0.5828823\ttotal: 401ms\tremaining: 159ms\n",
      "179:\tlearn: 0.5824026\ttotal: 402ms\tremaining: 157ms\n",
      "180:\tlearn: 0.5819430\ttotal: 404ms\tremaining: 154ms\n",
      "181:\tlearn: 0.5814798\ttotal: 405ms\tremaining: 151ms\n",
      "182:\tlearn: 0.5810083\ttotal: 406ms\tremaining: 149ms\n",
      "183:\tlearn: 0.5805221\ttotal: 408ms\tremaining: 146ms\n",
      "184:\tlearn: 0.5800622\ttotal: 409ms\tremaining: 144ms\n",
      "185:\tlearn: 0.5795805\ttotal: 410ms\tremaining: 141ms\n",
      "186:\tlearn: 0.5791239\ttotal: 412ms\tremaining: 139ms\n",
      "187:\tlearn: 0.5786507\ttotal: 413ms\tremaining: 136ms\n",
      "188:\tlearn: 0.5781810\ttotal: 414ms\tremaining: 134ms\n",
      "189:\tlearn: 0.5777267\ttotal: 415ms\tremaining: 131ms\n",
      "190:\tlearn: 0.5772617\ttotal: 416ms\tremaining: 129ms\n",
      "191:\tlearn: 0.5768094\ttotal: 417ms\tremaining: 126ms\n",
      "192:\tlearn: 0.5763323\ttotal: 419ms\tremaining: 124ms\n",
      "193:\tlearn: 0.5759016\ttotal: 420ms\tremaining: 121ms\n",
      "194:\tlearn: 0.5754347\ttotal: 421ms\tremaining: 119ms\n",
      "195:\tlearn: 0.5749729\ttotal: 422ms\tremaining: 116ms\n",
      "196:\tlearn: 0.5745122\ttotal: 424ms\tremaining: 114ms\n",
      "197:\tlearn: 0.5740487\ttotal: 425ms\tremaining: 112ms\n",
      "198:\tlearn: 0.5736040\ttotal: 427ms\tremaining: 109ms\n",
      "199:\tlearn: 0.5731474\ttotal: 428ms\tremaining: 107ms\n",
      "200:\tlearn: 0.5726493\ttotal: 430ms\tremaining: 105ms\n",
      "201:\tlearn: 0.5721854\ttotal: 431ms\tremaining: 102ms\n",
      "202:\tlearn: 0.5717450\ttotal: 432ms\tremaining: 100ms\n",
      "203:\tlearn: 0.5712811\ttotal: 433ms\tremaining: 97.7ms\n",
      "204:\tlearn: 0.5707626\ttotal: 435ms\tremaining: 95.4ms\n",
      "205:\tlearn: 0.5703258\ttotal: 436ms\tremaining: 93.2ms\n",
      "206:\tlearn: 0.5698967\ttotal: 437ms\tremaining: 90.8ms\n",
      "207:\tlearn: 0.5694617\ttotal: 439ms\tremaining: 88.6ms\n",
      "208:\tlearn: 0.5690277\ttotal: 440ms\tremaining: 86.3ms\n",
      "209:\tlearn: 0.5685884\ttotal: 441ms\tremaining: 84ms\n",
      "210:\tlearn: 0.5681366\ttotal: 442ms\tremaining: 81.8ms\n",
      "211:\tlearn: 0.5676860\ttotal: 444ms\tremaining: 79.5ms\n",
      "212:\tlearn: 0.5672386\ttotal: 445ms\tremaining: 77.3ms\n",
      "213:\tlearn: 0.5668095\ttotal: 446ms\tremaining: 75ms\n",
      "214:\tlearn: 0.5663652\ttotal: 447ms\tremaining: 72.8ms\n",
      "215:\tlearn: 0.5658593\ttotal: 448ms\tremaining: 70.6ms\n",
      "216:\tlearn: 0.5654097\ttotal: 450ms\tremaining: 68.4ms\n",
      "217:\tlearn: 0.5649065\ttotal: 451ms\tremaining: 66.3ms\n",
      "218:\tlearn: 0.5644763\ttotal: 453ms\tremaining: 64.1ms\n",
      "219:\tlearn: 0.5640405\ttotal: 454ms\tremaining: 61.9ms\n",
      "220:\tlearn: 0.5636283\ttotal: 455ms\tremaining: 59.7ms\n",
      "221:\tlearn: 0.5631670\ttotal: 456ms\tremaining: 57.5ms\n",
      "222:\tlearn: 0.5627344\ttotal: 458ms\tremaining: 55.4ms\n",
      "223:\tlearn: 0.5622943\ttotal: 459ms\tremaining: 53.3ms\n",
      "224:\tlearn: 0.5617994\ttotal: 461ms\tremaining: 51.2ms\n",
      "225:\tlearn: 0.5613597\ttotal: 462ms\tremaining: 49ms\n",
      "226:\tlearn: 0.5609314\ttotal: 463ms\tremaining: 46.9ms\n",
      "227:\tlearn: 0.5605436\ttotal: 465ms\tremaining: 44.9ms\n"
     ]
    },
    {
     "name": "stdout",
     "output_type": "stream",
     "text": [
      "228:\tlearn: 0.5600966\ttotal: 467ms\tremaining: 42.8ms\n",
      "229:\tlearn: 0.5596837\ttotal: 468ms\tremaining: 40.7ms\n",
      "230:\tlearn: 0.5592597\ttotal: 470ms\tremaining: 38.6ms\n",
      "231:\tlearn: 0.5588488\ttotal: 471ms\tremaining: 36.5ms\n",
      "232:\tlearn: 0.5584181\ttotal: 472ms\tremaining: 34.5ms\n",
      "233:\tlearn: 0.5580208\ttotal: 473ms\tremaining: 32.4ms\n",
      "234:\tlearn: 0.5575604\ttotal: 475ms\tremaining: 30.3ms\n",
      "235:\tlearn: 0.5571013\ttotal: 476ms\tremaining: 28.3ms\n",
      "236:\tlearn: 0.5566748\ttotal: 478ms\tremaining: 26.2ms\n",
      "237:\tlearn: 0.5562551\ttotal: 479ms\tremaining: 24.2ms\n",
      "238:\tlearn: 0.5558287\ttotal: 480ms\tremaining: 22.1ms\n",
      "239:\tlearn: 0.5554100\ttotal: 481ms\tremaining: 20.1ms\n",
      "240:\tlearn: 0.5549876\ttotal: 482ms\tremaining: 18ms\n",
      "241:\tlearn: 0.5545644\ttotal: 484ms\tremaining: 16ms\n",
      "242:\tlearn: 0.5541578\ttotal: 485ms\tremaining: 14ms\n",
      "243:\tlearn: 0.5537386\ttotal: 486ms\tremaining: 12ms\n",
      "244:\tlearn: 0.5532790\ttotal: 488ms\tremaining: 9.96ms\n",
      "245:\tlearn: 0.5528490\ttotal: 489ms\tremaining: 7.95ms\n",
      "246:\tlearn: 0.5524310\ttotal: 490ms\tremaining: 5.95ms\n",
      "247:\tlearn: 0.5519846\ttotal: 491ms\tremaining: 3.96ms\n",
      "248:\tlearn: 0.5515901\ttotal: 493ms\tremaining: 1.98ms\n",
      "249:\tlearn: 0.5511966\ttotal: 494ms\tremaining: 0us\n"
     ]
    },
    {
     "data": {
      "text/plain": [
       "GridSearchCV(cv=KFold(n_splits=5, random_state=None, shuffle=False),\n",
       "             estimator=Pipeline(steps=[('preprocess',\n",
       "                                        ColumnTransformer(transformers=[('title',\n",
       "                                                                         Pipeline(steps=[('title_extract',\n",
       "                                                                                          MakeTitle()),\n",
       "                                                                                         ('label_encoder',\n",
       "                                                                                          OrdinalEncoder())]),\n",
       "                                                                         ['Name']),\n",
       "                                                                        ('sex',\n",
       "                                                                         OrdinalEncoder(),\n",
       "                                                                         ['Sex']),\n",
       "                                                                        ('num',\n",
       "                                                                         SimpleImputer(),\n",
       "                                                                         ['Age',\n",
       "                                                                          'Fare']),\n",
       "                                                                        ('embarked',\n",
       "                                                                         Pipeline(steps=[('imputer'...\n",
       "                                        <catboost.core.CatBoostClassifier object at 0x0000021E4EB42B50>)]),\n",
       "             n_jobs=-1,\n",
       "             param_grid={'classifier__bagging_temperature': [0.03, 0.09, 0.25],\n",
       "                         'classifier__border_count': [5, 10, 20],\n",
       "                         'classifier__depth': [3, 4],\n",
       "                         'classifier__iterations': [250, 100],\n",
       "                         'classifier__l2_leaf_reg': [3, 1, 5],\n",
       "                         'classifier__learning_rate': [0.03, 0.001],\n",
       "                         'classifier__max_ctr_complexity': [1, 2, 3],\n",
       "                         'classifier__random_strength': [0.2, 0.5]})"
      ]
     },
     "execution_count": 27,
     "metadata": {},
     "output_type": "execute_result"
    }
   ],
   "source": [
    "cat_pipeline.fit(X_train, y_train);"
   ]
  },
  {
   "cell_type": "code",
   "execution_count": 28,
   "metadata": {},
   "outputs": [
    {
     "data": {
      "text/plain": [
       "0.8547904191616766"
      ]
     },
     "execution_count": 28,
     "metadata": {},
     "output_type": "execute_result"
    }
   ],
   "source": [
    "cat_pipeline.score(X_train, y_train)"
   ]
  },
  {
   "cell_type": "code",
   "execution_count": 29,
   "metadata": {},
   "outputs": [
    {
     "data": {
      "text/plain": [
       "0.7892376681614349"
      ]
     },
     "execution_count": 29,
     "metadata": {},
     "output_type": "execute_result"
    }
   ],
   "source": [
    "cat_pipeline.score(X_test, y_test)"
   ]
  },
  {
   "cell_type": "markdown",
   "metadata": {},
   "source": [
    "Scale data"
   ]
  },
  {
   "cell_type": "code",
   "execution_count": 52,
   "metadata": {},
   "outputs": [],
   "source": [
    "process_embarked = Pipeline(steps=[\n",
    "    ('imputer', SimpleImputer(strategy='most_frequent')),\n",
    "    ('label_encoder', OrdinalEncoder()),\n",
    "    ('std_scaler', StandardScaler())\n",
    "])"
   ]
  },
  {
   "cell_type": "code",
   "execution_count": 53,
   "metadata": {},
   "outputs": [],
   "source": [
    "process_title = Pipeline(steps=[\n",
    "    ('title_extract', MakeTitle()),\n",
    "    ('label_encoder', OrdinalEncoder()),\n",
    "    ('std_scale', StandardScaler(with_mean=False))\n",
    "])"
   ]
  },
  {
   "cell_type": "code",
   "execution_count": 54,
   "metadata": {},
   "outputs": [],
   "source": [
    "process_unchaged = Pipeline(steps=[\n",
    "    ('std_scaler', StandardScaler(with_mean=False))\n",
    "])"
   ]
  },
  {
   "cell_type": "code",
   "execution_count": 55,
   "metadata": {},
   "outputs": [],
   "source": [
    "process_impute = Pipeline(steps=[\n",
    "    ('num', SimpleImputer()),\n",
    "    ('std_scale', StandardScaler(with_mean=False))\n",
    "])"
   ]
  },
  {
   "cell_type": "code",
   "execution_count": 56,
   "metadata": {},
   "outputs": [],
   "source": [
    "prepocess_scale = ColumnTransformer(\n",
    "    transformers=[\n",
    "        \n",
    "        ('title', process_title, ['Name']),\n",
    "        ('sex', OrdinalEncoder(), ['Sex']),\n",
    "        ('num', process_impute, ['Age', 'Fare']),\n",
    "        ('embarked', process_embarked, ['Embarked']),\n",
    "        ('unmodified', process_unchaged, ['Parch', 'SibSp', 'Pclass'])     \n",
    "    ],remainder='drop')"
   ]
  },
  {
   "cell_type": "code",
   "execution_count": 57,
   "metadata": {},
   "outputs": [
    {
     "data": {
      "text/html": [
       "<div>\n",
       "<style scoped>\n",
       "    .dataframe tbody tr th:only-of-type {\n",
       "        vertical-align: middle;\n",
       "    }\n",
       "\n",
       "    .dataframe tbody tr th {\n",
       "        vertical-align: top;\n",
       "    }\n",
       "\n",
       "    .dataframe thead th {\n",
       "        text-align: right;\n",
       "    }\n",
       "</style>\n",
       "<table border=\"1\" class=\"dataframe\">\n",
       "  <thead>\n",
       "    <tr style=\"text-align: right;\">\n",
       "      <th></th>\n",
       "      <th>0</th>\n",
       "      <th>1</th>\n",
       "      <th>2</th>\n",
       "      <th>3</th>\n",
       "      <th>4</th>\n",
       "      <th>5</th>\n",
       "      <th>6</th>\n",
       "      <th>7</th>\n",
       "    </tr>\n",
       "  </thead>\n",
       "  <tbody>\n",
       "    <tr>\n",
       "      <th>0</th>\n",
       "      <td>3.673083</td>\n",
       "      <td>1.0</td>\n",
       "      <td>1.692996</td>\n",
       "      <td>0.145976</td>\n",
       "      <td>0.585954</td>\n",
       "      <td>0.000000</td>\n",
       "      <td>0.907339</td>\n",
       "      <td>3.590226</td>\n",
       "    </tr>\n",
       "    <tr>\n",
       "      <th>1</th>\n",
       "      <td>4.897444</td>\n",
       "      <td>0.0</td>\n",
       "      <td>2.924265</td>\n",
       "      <td>1.435267</td>\n",
       "      <td>-1.942303</td>\n",
       "      <td>0.000000</td>\n",
       "      <td>0.907339</td>\n",
       "      <td>1.196742</td>\n",
       "    </tr>\n",
       "    <tr>\n",
       "      <th>2</th>\n",
       "      <td>2.448722</td>\n",
       "      <td>0.0</td>\n",
       "      <td>2.000813</td>\n",
       "      <td>0.159567</td>\n",
       "      <td>0.585954</td>\n",
       "      <td>0.000000</td>\n",
       "      <td>0.000000</td>\n",
       "      <td>3.590226</td>\n",
       "    </tr>\n",
       "    <tr>\n",
       "      <th>3</th>\n",
       "      <td>4.897444</td>\n",
       "      <td>0.0</td>\n",
       "      <td>2.693402</td>\n",
       "      <td>1.069152</td>\n",
       "      <td>0.585954</td>\n",
       "      <td>0.000000</td>\n",
       "      <td>0.907339</td>\n",
       "      <td>1.196742</td>\n",
       "    </tr>\n",
       "    <tr>\n",
       "      <th>4</th>\n",
       "      <td>3.673083</td>\n",
       "      <td>1.0</td>\n",
       "      <td>2.693402</td>\n",
       "      <td>0.162084</td>\n",
       "      <td>0.585954</td>\n",
       "      <td>0.000000</td>\n",
       "      <td>0.000000</td>\n",
       "      <td>3.590226</td>\n",
       "    </tr>\n",
       "    <tr>\n",
       "      <th>...</th>\n",
       "      <td>...</td>\n",
       "      <td>...</td>\n",
       "      <td>...</td>\n",
       "      <td>...</td>\n",
       "      <td>...</td>\n",
       "      <td>...</td>\n",
       "      <td>...</td>\n",
       "      <td>...</td>\n",
       "    </tr>\n",
       "    <tr>\n",
       "      <th>886</th>\n",
       "      <td>6.121805</td>\n",
       "      <td>1.0</td>\n",
       "      <td>2.077767</td>\n",
       "      <td>0.261751</td>\n",
       "      <td>0.585954</td>\n",
       "      <td>0.000000</td>\n",
       "      <td>0.000000</td>\n",
       "      <td>2.393484</td>\n",
       "    </tr>\n",
       "    <tr>\n",
       "      <th>887</th>\n",
       "      <td>2.448722</td>\n",
       "      <td>0.0</td>\n",
       "      <td>1.462133</td>\n",
       "      <td>0.604041</td>\n",
       "      <td>0.585954</td>\n",
       "      <td>0.000000</td>\n",
       "      <td>0.000000</td>\n",
       "      <td>1.196742</td>\n",
       "    </tr>\n",
       "    <tr>\n",
       "      <th>888</th>\n",
       "      <td>2.448722</td>\n",
       "      <td>0.0</td>\n",
       "      <td>2.285476</td>\n",
       "      <td>0.472158</td>\n",
       "      <td>0.585954</td>\n",
       "      <td>2.482607</td>\n",
       "      <td>0.907339</td>\n",
       "      <td>3.590226</td>\n",
       "    </tr>\n",
       "    <tr>\n",
       "      <th>889</th>\n",
       "      <td>3.673083</td>\n",
       "      <td>1.0</td>\n",
       "      <td>2.000813</td>\n",
       "      <td>0.604041</td>\n",
       "      <td>-1.942303</td>\n",
       "      <td>0.000000</td>\n",
       "      <td>0.000000</td>\n",
       "      <td>1.196742</td>\n",
       "    </tr>\n",
       "    <tr>\n",
       "      <th>890</th>\n",
       "      <td>3.673083</td>\n",
       "      <td>1.0</td>\n",
       "      <td>2.462539</td>\n",
       "      <td>0.156044</td>\n",
       "      <td>-0.678175</td>\n",
       "      <td>0.000000</td>\n",
       "      <td>0.000000</td>\n",
       "      <td>3.590226</td>\n",
       "    </tr>\n",
       "  </tbody>\n",
       "</table>\n",
       "<p>891 rows × 8 columns</p>\n",
       "</div>"
      ],
      "text/plain": [
       "            0    1         2         3         4         5         6         7\n",
       "0    3.673083  1.0  1.692996  0.145976  0.585954  0.000000  0.907339  3.590226\n",
       "1    4.897444  0.0  2.924265  1.435267 -1.942303  0.000000  0.907339  1.196742\n",
       "2    2.448722  0.0  2.000813  0.159567  0.585954  0.000000  0.000000  3.590226\n",
       "3    4.897444  0.0  2.693402  1.069152  0.585954  0.000000  0.907339  1.196742\n",
       "4    3.673083  1.0  2.693402  0.162084  0.585954  0.000000  0.000000  3.590226\n",
       "..        ...  ...       ...       ...       ...       ...       ...       ...\n",
       "886  6.121805  1.0  2.077767  0.261751  0.585954  0.000000  0.000000  2.393484\n",
       "887  2.448722  0.0  1.462133  0.604041  0.585954  0.000000  0.000000  1.196742\n",
       "888  2.448722  0.0  2.285476  0.472158  0.585954  2.482607  0.907339  3.590226\n",
       "889  3.673083  1.0  2.000813  0.604041 -1.942303  0.000000  0.000000  1.196742\n",
       "890  3.673083  1.0  2.462539  0.156044 -0.678175  0.000000  0.000000  3.590226\n",
       "\n",
       "[891 rows x 8 columns]"
      ]
     },
     "execution_count": 57,
     "metadata": {},
     "output_type": "execute_result"
    }
   ],
   "source": [
    "data_transformed_scale = prepocess_scale.fit_transform(data)\n",
    "data_transformed_scale = pd.DataFrame(data_transformed_scale)\n",
    "data_transformed_scale"
   ]
  },
  {
   "cell_type": "markdown",
   "metadata": {},
   "source": [
    "LogisticRegression"
   ]
  },
  {
   "cell_type": "code",
   "execution_count": 58,
   "metadata": {},
   "outputs": [],
   "source": [
    "linear_model = Pipeline(steps=[\n",
    "    ('Preprocessor', prepocess_scale),\n",
    "    ('model', GridSearchCV(\n",
    "    LogisticRegression(random_state=42,penalty = 'l2'),\n",
    "    param_grid = {'C': [0.1, 0.2, 0.3, 0.5, 1.0]},\n",
    "    cv=KFold(),\n",
    "    verbose=2))\n",
    "])"
   ]
  },
  {
   "cell_type": "code",
   "execution_count": 59,
   "metadata": {},
   "outputs": [
    {
     "name": "stdout",
     "output_type": "stream",
     "text": [
      "Fitting 5 folds for each of 5 candidates, totalling 25 fits\n",
      "[CV] END ..............................................C=0.1; total time=   0.0s\n",
      "[CV] END ..............................................C=0.1; total time=   0.0s\n",
      "[CV] END ..............................................C=0.1; total time=   0.0s\n",
      "[CV] END ..............................................C=0.1; total time=   0.0s\n",
      "[CV] END ..............................................C=0.1; total time=   0.0s\n",
      "[CV] END ..............................................C=0.2; total time=   0.0s\n",
      "[CV] END ..............................................C=0.2; total time=   0.0s\n",
      "[CV] END ..............................................C=0.2; total time=   0.0s\n",
      "[CV] END ..............................................C=0.2; total time=   0.0s\n",
      "[CV] END ..............................................C=0.2; total time=   0.0s\n",
      "[CV] END ..............................................C=0.3; total time=   0.0s\n",
      "[CV] END ..............................................C=0.3; total time=   0.0s\n",
      "[CV] END ..............................................C=0.3; total time=   0.0s\n",
      "[CV] END ..............................................C=0.3; total time=   0.0s\n",
      "[CV] END ..............................................C=0.3; total time=   0.0s\n",
      "[CV] END ..............................................C=0.5; total time=   0.0s\n",
      "[CV] END ..............................................C=0.5; total time=   0.0s\n",
      "[CV] END ..............................................C=0.5; total time=   0.0s\n",
      "[CV] END ..............................................C=0.5; total time=   0.0s\n",
      "[CV] END ..............................................C=0.5; total time=   0.0s\n",
      "[CV] END ..............................................C=1.0; total time=   0.0s\n",
      "[CV] END ..............................................C=1.0; total time=   0.0s\n",
      "[CV] END ..............................................C=1.0; total time=   0.0s\n",
      "[CV] END ..............................................C=1.0; total time=   0.0s\n",
      "[CV] END ..............................................C=1.0; total time=   0.0s\n"
     ]
    },
    {
     "data": {
      "text/plain": [
       "Pipeline(steps=[('Preprocessor',\n",
       "                 ColumnTransformer(transformers=[('title',\n",
       "                                                  Pipeline(steps=[('title_extract',\n",
       "                                                                   MakeTitle()),\n",
       "                                                                  ('label_encoder',\n",
       "                                                                   OrdinalEncoder()),\n",
       "                                                                  ('std_scale',\n",
       "                                                                   StandardScaler(with_mean=False))]),\n",
       "                                                  ['Name']),\n",
       "                                                 ('sex', OrdinalEncoder(),\n",
       "                                                  ['Sex']),\n",
       "                                                 ('num',\n",
       "                                                  Pipeline(steps=[('num',\n",
       "                                                                   SimpleImputer()),\n",
       "                                                                  ('std_scale',\n",
       "                                                                   StandardScaler(with_mean=False))]),\n",
       "                                                  ['Age', 'Fa...\n",
       "                                                                  ('label_encoder',\n",
       "                                                                   OrdinalEncoder()),\n",
       "                                                                  ('std_scaler',\n",
       "                                                                   StandardScaler())]),\n",
       "                                                  ['Embarked']),\n",
       "                                                 ('unmodified',\n",
       "                                                  Pipeline(steps=[('std_scaler',\n",
       "                                                                   StandardScaler(with_mean=False))]),\n",
       "                                                  ['Parch', 'SibSp',\n",
       "                                                   'Pclass'])])),\n",
       "                ('model',\n",
       "                 GridSearchCV(cv=KFold(n_splits=5, random_state=None, shuffle=False),\n",
       "                              estimator=LogisticRegression(random_state=42),\n",
       "                              param_grid={'C': [0.1, 0.2, 0.3, 0.5, 1.0]},\n",
       "                              verbose=2))])"
      ]
     },
     "execution_count": 59,
     "metadata": {},
     "output_type": "execute_result"
    }
   ],
   "source": [
    "linear_model.fit(X_train,y_train)"
   ]
  },
  {
   "cell_type": "code",
   "execution_count": 60,
   "metadata": {},
   "outputs": [
    {
     "data": {
      "text/plain": [
       "0.8103932584269663"
      ]
     },
     "execution_count": 60,
     "metadata": {},
     "output_type": "execute_result"
    }
   ],
   "source": [
    "linear_model.score(X_train,y_train)"
   ]
  },
  {
   "cell_type": "code",
   "execution_count": 61,
   "metadata": {},
   "outputs": [
    {
     "data": {
      "text/plain": [
       "0.7877094972067039"
      ]
     },
     "execution_count": 61,
     "metadata": {},
     "output_type": "execute_result"
    }
   ],
   "source": [
    "linear_model.score(X_test, y_test)"
   ]
  },
  {
   "cell_type": "code",
   "execution_count": 62,
   "metadata": {},
   "outputs": [
    {
     "data": {
      "text/plain": [
       "<AxesSubplot:>"
      ]
     },
     "execution_count": 62,
     "metadata": {},
     "output_type": "execute_result"
    },
    {
     "data": {
      "image/png": "[encoded data removed]",
      "text/plain": [
       "<Figure size 432x288 with 2 Axes>"
      ]
     },
     "metadata": {
      "needs_background": "light"
     },
     "output_type": "display_data"
    }
   ],
   "source": [
    "y_pred_linear = linear_model.predict(X_test)\n",
    "cm = confusion_matrix(y_test,y_pred_linear)\n",
    "sns.heatmap(cm,annot=True,fmt=\"d\")"
   ]
  },
  {
   "cell_type": "code",
   "execution_count": 89,
   "metadata": {},
   "outputs": [
    {
     "data": {
      "text/html": [
       "<div>\n",
       "<style scoped>\n",
       "    .dataframe tbody tr th:only-of-type {\n",
       "        vertical-align: middle;\n",
       "    }\n",
       "\n",
       "    .dataframe tbody tr th {\n",
       "        vertical-align: top;\n",
       "    }\n",
       "\n",
       "    .dataframe thead th {\n",
       "        text-align: right;\n",
       "    }\n",
       "</style>\n",
       "<table border=\"1\" class=\"dataframe\">\n",
       "  <thead>\n",
       "    <tr style=\"text-align: right;\">\n",
       "      <th></th>\n",
       "      <th>precision</th>\n",
       "      <th>recall</th>\n",
       "      <th>f1-score</th>\n",
       "      <th>support</th>\n",
       "    </tr>\n",
       "  </thead>\n",
       "  <tbody>\n",
       "    <tr>\n",
       "      <th>0</th>\n",
       "      <td>0.788136</td>\n",
       "      <td>0.877358</td>\n",
       "      <td>0.830357</td>\n",
       "      <td>106.000000</td>\n",
       "    </tr>\n",
       "    <tr>\n",
       "      <th>1</th>\n",
       "      <td>0.786885</td>\n",
       "      <td>0.657534</td>\n",
       "      <td>0.716418</td>\n",
       "      <td>73.000000</td>\n",
       "    </tr>\n",
       "    <tr>\n",
       "      <th>accuracy</th>\n",
       "      <td>0.787709</td>\n",
       "      <td>0.787709</td>\n",
       "      <td>0.787709</td>\n",
       "      <td>0.787709</td>\n",
       "    </tr>\n",
       "    <tr>\n",
       "      <th>macro avg</th>\n",
       "      <td>0.787510</td>\n",
       "      <td>0.767446</td>\n",
       "      <td>0.773388</td>\n",
       "      <td>179.000000</td>\n",
       "    </tr>\n",
       "    <tr>\n",
       "      <th>weighted avg</th>\n",
       "      <td>0.787626</td>\n",
       "      <td>0.787709</td>\n",
       "      <td>0.783890</td>\n",
       "      <td>179.000000</td>\n",
       "    </tr>\n",
       "  </tbody>\n",
       "</table>\n",
       "</div>"
      ],
      "text/plain": [
       "              precision    recall  f1-score     support\n",
       "0              0.788136  0.877358  0.830357  106.000000\n",
       "1              0.786885  0.657534  0.716418   73.000000\n",
       "accuracy       0.787709  0.787709  0.787709    0.787709\n",
       "macro avg      0.787510  0.767446  0.773388  179.000000\n",
       "weighted avg   0.787626  0.787709  0.783890  179.000000"
      ]
     },
     "execution_count": 89,
     "metadata": {},
     "output_type": "execute_result"
    }
   ],
   "source": [
    "class_report = classification_report(y_test,y_pred_linear, output_dict=True)\n",
    "report_linear = pd.DataFrame(class_report).transpose()\n",
    "report_linear"
   ]
  },
  {
   "cell_type": "markdown",
   "metadata": {},
   "source": [
    "SVC"
   ]
  },
  {
   "cell_type": "code",
   "execution_count": 64,
   "metadata": {},
   "outputs": [],
   "source": [
    "from sklearn import svm"
   ]
  },
  {
   "cell_type": "code",
   "execution_count": 65,
   "metadata": {},
   "outputs": [],
   "source": [
    "svm_pipeline = Pipeline(steps=[\n",
    "    ('preprocess', prepocess_scale),\n",
    "    ('model', svm.SVC())\n",
    "])"
   ]
  },
  {
   "cell_type": "code",
   "execution_count": 66,
   "metadata": {},
   "outputs": [],
   "source": [
    "svm_pipeline.fit(X_train,y_train);"
   ]
  },
  {
   "cell_type": "code",
   "execution_count": 67,
   "metadata": {},
   "outputs": [
    {
     "data": {
      "text/plain": [
       "0.8412921348314607"
      ]
     },
     "execution_count": 67,
     "metadata": {},
     "output_type": "execute_result"
    }
   ],
   "source": [
    "svm_pipeline.score(X_train, y_train)\n"
   ]
  },
  {
   "cell_type": "code",
   "execution_count": 68,
   "metadata": {},
   "outputs": [
    {
     "data": {
      "text/plain": [
       "0.7988826815642458"
      ]
     },
     "execution_count": 68,
     "metadata": {},
     "output_type": "execute_result"
    }
   ],
   "source": [
    "svm_pipeline.score(X_test, y_test)"
   ]
  },
  {
   "cell_type": "code",
   "execution_count": 69,
   "metadata": {},
   "outputs": [
    {
     "data": {
      "text/plain": [
       "<AxesSubplot:>"
      ]
     },
     "execution_count": 69,
     "metadata": {},
     "output_type": "execute_result"
    },
    {
     "data": {
      "image/png": "[encoded data removed]",
      "text/plain": [
       "<Figure size 432x288 with 2 Axes>"
      ]
     },
     "metadata": {
      "needs_background": "light"
     },
     "output_type": "display_data"
    }
   ],
   "source": [
    "y_pred_svm = svm_pipeline.predict(X_test)\n",
    "cm = confusion_matrix(y_test,y_pred_svm)\n",
    "sns.heatmap(cm,annot=True,fmt=\"d\")"
   ]
  },
  {
   "cell_type": "code",
   "execution_count": 88,
   "metadata": {},
   "outputs": [
    {
     "data": {
      "text/html": [
       "<div>\n",
       "<style scoped>\n",
       "    .dataframe tbody tr th:only-of-type {\n",
       "        vertical-align: middle;\n",
       "    }\n",
       "\n",
       "    .dataframe tbody tr th {\n",
       "        vertical-align: top;\n",
       "    }\n",
       "\n",
       "    .dataframe thead th {\n",
       "        text-align: right;\n",
       "    }\n",
       "</style>\n",
       "<table border=\"1\" class=\"dataframe\">\n",
       "  <thead>\n",
       "    <tr style=\"text-align: right;\">\n",
       "      <th></th>\n",
       "      <th>precision</th>\n",
       "      <th>recall</th>\n",
       "      <th>f1-score</th>\n",
       "      <th>support</th>\n",
       "    </tr>\n",
       "  </thead>\n",
       "  <tbody>\n",
       "    <tr>\n",
       "      <th>0</th>\n",
       "      <td>0.796610</td>\n",
       "      <td>0.886792</td>\n",
       "      <td>0.839286</td>\n",
       "      <td>106.000000</td>\n",
       "    </tr>\n",
       "    <tr>\n",
       "      <th>1</th>\n",
       "      <td>0.803279</td>\n",
       "      <td>0.671233</td>\n",
       "      <td>0.731343</td>\n",
       "      <td>73.000000</td>\n",
       "    </tr>\n",
       "    <tr>\n",
       "      <th>accuracy</th>\n",
       "      <td>0.798883</td>\n",
       "      <td>0.798883</td>\n",
       "      <td>0.798883</td>\n",
       "      <td>0.798883</td>\n",
       "    </tr>\n",
       "    <tr>\n",
       "      <th>macro avg</th>\n",
       "      <td>0.799944</td>\n",
       "      <td>0.779013</td>\n",
       "      <td>0.785314</td>\n",
       "      <td>179.000000</td>\n",
       "    </tr>\n",
       "    <tr>\n",
       "      <th>weighted avg</th>\n",
       "      <td>0.799330</td>\n",
       "      <td>0.798883</td>\n",
       "      <td>0.795264</td>\n",
       "      <td>179.000000</td>\n",
       "    </tr>\n",
       "  </tbody>\n",
       "</table>\n",
       "</div>"
      ],
      "text/plain": [
       "              precision    recall  f1-score     support\n",
       "0              0.796610  0.886792  0.839286  106.000000\n",
       "1              0.803279  0.671233  0.731343   73.000000\n",
       "accuracy       0.798883  0.798883  0.798883    0.798883\n",
       "macro avg      0.799944  0.779013  0.785314  179.000000\n",
       "weighted avg   0.799330  0.798883  0.795264  179.000000"
      ]
     },
     "execution_count": 88,
     "metadata": {},
     "output_type": "execute_result"
    }
   ],
   "source": [
    "class_report = classification_report(y_test,y_pred_svm, output_dict=True)\n",
    "report_svm = pd.DataFrame(class_report).transpose()\n",
    "report_svm"
   ]
  }
 ],
 "metadata": {
  "kernelspec": {
   "display_name": "Python 3 (ipykernel)",
   "language": "python",
   "name": "python3"
  },
  "language_info": {
   "codemirror_mode": {
    "name": "ipython",
    "version": 3
   },
   "file_extension": ".py",
   "mimetype": "text/x-python",
   "name": "python",
   "nbconvert_exporter": "python",
   "pygments_lexer": "ipython3",
   "version": "3.9.6"
  }
 },
 "nbformat": 4,
 "nbformat_minor": 4
}
